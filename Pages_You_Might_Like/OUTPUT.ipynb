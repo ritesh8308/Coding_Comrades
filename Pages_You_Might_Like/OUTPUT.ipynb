{
 "cells": [
  {
   "cell_type": "code",
   "execution_count": 2,
   "id": "03c8cdc8-17ef-4450-8855-af32af89500d",
   "metadata": {},
   "outputs": [
    {
     "ename": "SyntaxError",
     "evalue": "invalid syntax (1754907769.py, line 1)",
     "output_type": "error",
     "traceback": [
      "\u001b[1;36m  Cell \u001b[1;32mIn[2], line 1\u001b[1;36m\u001b[0m\n\u001b[1;33m    INPUT:\u001b[0m\n\u001b[1;37m          ^\u001b[0m\n\u001b[1;31mSyntaxError\u001b[0m\u001b[1;31m:\u001b[0m invalid syntax\n"
     ]
    }
   ],
   "source": [
    "INPUT:\n",
    "\n",
    "\n",
    "{\n",
    "    \"users\": [\n",
    "        {\n",
    "            \"id\": 1,\n",
    "            \"name\": \"Amit\",\n",
    "            \"friends\": [\n",
    "                2,\n",
    "                3\n",
    "            ],\n",
    "            \"liked_pages\": [\n",
    "                101\n",
    "            ]\n",
    "        },\n",
    "        {\n",
    "            \"id\": 2,\n",
    "            \"name\": \"Priya\",\n",
    "            \"friends\": [\n",
    "                1,\n",
    "                4\n",
    "            ],\n",
    "            \"liked_pages\": [\n",
    "                102\n",
    "            ]\n",
    "        },\n",
    "        {\n",
    "            \"id\": 4,\n",
    "            \"name\": \"Sara\",\n",
    "            \"friends\": [\n",
    "                2\n",
    "                \n",
    "                \n",
    "            ],\n",
    "            \"liked_pages\": [\n",
    "                104\n",
    "            ]\n",
    "        }\n",
    "    ],\n",
    "    \"pages\": [\n",
    "        {\n",
    "            \"id\": 101,\n",
    "            \"name\": \"Python Developers\"\n",
    "        },\n",
    "        {\n",
    "            \"id\": 102,\n",
    "            \"name\": \"Data Science Enthusiasts\"\n",
    "        },\n",
    "        {\n",
    "            \"id\": 103,\n",
    "            \"name\": \"AI & ML Community\"\n",
    "        },\n",
    "        {\n",
    "            \"id\": 104,\n",
    "            \"name\": \"Web Development\"\n",
    "        }\n",
    "    ]\n",
    "}"
   ]
  },
  {
   "cell_type": "code",
   "execution_count": null,
   "id": "07a5925e-8b4c-465e-95e0-a139263a88cb",
   "metadata": {},
   "outputs": [],
   "source": [
    "OUTPPUT:\n",
    "\n",
    "\n",
    "Pages You Might Like for User 1: [102, 104]"
   ]
  }
 ],
 "metadata": {
  "kernelspec": {
   "display_name": "Python [conda env:base] *",
   "language": "python",
   "name": "conda-base-py"
  },
  "language_info": {
   "codemirror_mode": {
    "name": "ipython",
    "version": 3
   },
   "file_extension": ".py",
   "mimetype": "text/x-python",
   "name": "python",
   "nbconvert_exporter": "python",
   "pygments_lexer": "ipython3",
   "version": "3.12.7"
  }
 },
 "nbformat": 4,
 "nbformat_minor": 5
}
