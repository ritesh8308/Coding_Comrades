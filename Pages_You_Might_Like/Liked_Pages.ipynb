{
 "cells": [
  {
   "cell_type": "code",
   "execution_count": null,
   "id": "98b1356d-59da-48dd-9dfd-267e66f2293f",
   "metadata": {},
   "outputs": [],
   "source": [
    "import json\n",
    "\n",
    "# Function to load JSON data from a file\n",
    "def load_data(filename):\n",
    "    with open(filename, \"r\") as file:\n",
    "        return json.load(file)\n",
    "\n",
    "# Function to find pages a user might like based on common interests\n",
    "def find_pages_you_might_like(user_id, data):\n",
    "    # Dictionary to store user interactions with pages\n",
    "    user_pages = {}\n",
    "    for user in data[\"users\"]:\n",
    "        user_pages[user[\"id\"]] = set(user[\"liked_pages\"])\n",
    "    \n",
    "    # If the user is not found, return an empty list\n",
    "    if user_id not in user_pages:\n",
    "        return []\n",
    "    \n",
    "    user_liked_pages = user_pages[user_id]\n",
    "    page_suggestions = {}\n",
    "    \n",
    "    for other_user, pages in user_pages.items():\n",
    "        if other_user != user_id:\n",
    "            shared_pages = user_liked_pages.intersection(pages)\n",
    "            for page in pages:\n",
    "                if page not in user_liked_pages:\n",
    "                    page_suggestions[page] = page_suggestions.get(page, 0) + len(shared_pages)\n",
    "    \n",
    "    # Sort recommended pages based on the number of shared interactions\n",
    "    sorted_pages = sorted(page_suggestions.items(), key=lambda x: x[1], reverse=True)\n",
    "    return [page_id for page_id, _ in sorted_pages]\n",
    "\n",
    "# Load data\n",
    "data = load_data(\"C:/Users/Dell/Jupyter_lab/Coding_Comrades/Pages_You_Might_Like/cleaned_data.json\")\n",
    "user_id = 1  # Example: Finding recommendations for Amit\n",
    "page_recommendations = find_pages_you_might_like(user_id, data)\n",
    "print(f\"Pages You Might Like for User {user_id}: {page_recommendations}\")"
   ]
  }
 ],
 "metadata": {
  "kernelspec": {
   "display_name": "Python [conda env:base] *",
   "language": "python",
   "name": "conda-base-py"
  },
  "language_info": {
   "codemirror_mode": {
    "name": "ipython",
    "version": 3
   },
   "file_extension": ".py",
   "mimetype": "text/x-python",
   "name": "python",
   "nbconvert_exporter": "python",
   "pygments_lexer": "ipython3",
   "version": "3.12.3"
  }
 },
 "nbformat": 4,
 "nbformat_minor": 5
}
