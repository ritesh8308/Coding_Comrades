{
 "cells": [
  {
   "cell_type": "markdown",
   "id": "2fd91982-ba35-4b21-acea-b488e180bd51",
   "metadata": {},
   "source": [
    "INPUT DATA:  \n",
    "\n",
    "\n",
    "{\n",
    "    \"users\": [\n",
    "        {\n",
    "            \"id\": 1,\n",
    "            \"name\": \"Amit\",\n",
    "            \"friends\": [\n",
    "                2,\n",
    "                3\n",
    "            ],\n",
    "            \"liked_pages\": [\n",
    "                101\n",
    "            ]\n",
    "        },\n",
    "        {\n",
    "            \"id\": 2,\n",
    "            \"name\": \"Priya\",\n",
    "            \"friends\": [\n",
    "                1,\n",
    "                4\n",
    "            ],\n",
    "            \"liked_pages\": [\n",
    "                102\n",
    "            ]\n",
    "        },\n",
    "        {\n",
    "            \"id\": 4,\n",
    "            \"name\": \"Sara\",\n",
    "            \"friends\": [\n",
    "                2\n",
    "                \n",
    "                \n",
    "            ],\n",
    "            \"liked_pages\": [\n",
    "                104\n",
    "            ]\n",
    "        }\n",
    "    ],\n",
    "    \"pages\": [\n",
    "        {\n",
    "            \"id\": 101,\n",
    "            \"name\": \"Python Developers\"\n",
    "        },\n",
    "        {\n",
    "            \"id\": 102,\n",
    "            \"name\": \"Data Science Enthusiasts\"\n",
    "        },\n",
    "        {\n",
    "            \"id\": 103,\n",
    "            \"name\": \"AI & ML Community\"\n",
    "        },\n",
    "        {\n",
    "            \"id\": 104,\n",
    "            \"name\": \"Web Development\"\n",
    "        }\n",
    "    ]\n",
    "}"
   ]
  },
  {
   "cell_type": "markdown",
   "id": "467b1ca2-4f6c-4d7b-b43a-ad5c1c1637b6",
   "metadata": {},
   "source": [
    "OUTPUT:\n",
    "\n",
    "\n",
    "\n",
    "People You May Know for User 1: [4]"
   ]
  }
 ],
 "metadata": {
  "kernelspec": {
   "display_name": "Python [conda env:base] *",
   "language": "python",
   "name": "conda-base-py"
  },
  "language_info": {
   "codemirror_mode": {
    "name": "ipython",
    "version": 3
   },
   "file_extension": ".py",
   "mimetype": "text/x-python",
   "name": "python",
   "nbconvert_exporter": "python",
   "pygments_lexer": "ipython3",
   "version": "3.12.3"
  }
 },
 "nbformat": 4,
 "nbformat_minor": 5
}
